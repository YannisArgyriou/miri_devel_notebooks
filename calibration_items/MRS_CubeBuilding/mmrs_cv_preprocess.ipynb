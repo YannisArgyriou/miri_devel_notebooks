{
 "cells": [
  {
   "cell_type": "code",
   "execution_count": 1,
   "metadata": {},
   "outputs": [],
   "source": [
    "import os\n",
    "import numpy as np\n",
    "from astropy.io import fits\n",
    "\n",
    "%matplotlib tk\n",
    "from tkinter import filedialog\n",
    "from tkinter import *"
   ]
  },
  {
   "cell_type": "code",
   "execution_count": 2,
   "metadata": {},
   "outputs": [],
   "source": [
    "def mmrs_cv_preprocess():\n",
    "    \n",
    "    root = Tk()\n",
    "    root.withdraw()\n",
    "    filenames = filedialog.askopenfilenames(initialdir = \"/\", title = \"Read Files to Process\",filetypes = ((\"FITS files\",\"*.fits\"),(\"all files\",\"*.*\")) )\n",
    "    nfiles = len(filenames)\n",
    "\n",
    "    # Pretend we're pointing at RA=45 degrees, dec=0 degrees\n",
    "    # with local roll 0\n",
    "    razp=45.\n",
    "    deczp=0.\n",
    "    ROLLREF=0.\n",
    "\n",
    "    # Define V2REF, V3REF at middle of 1A field (alpha=beta=0.0)\n",
    "    V2REF = -8.3942412*60. # In arcsec\n",
    "    V3REF = -5.3123744*60. # In arcsec\n",
    "\n",
    "    for i in range(nfiles):\n",
    "        filepath = filenames[i]\n",
    "        # Load fits file\n",
    "        hdulist=fits.open(filepath)\n",
    "        hdr=hdulist[0].header\n",
    "\n",
    "        # Derive the offsets from the XACTPOS, YACTPOS in the headers\n",
    "        osim_xact=hdr['XACTPOS'] # arcminutes\n",
    "        osim_yact=hdr['YACTPOS'] # arcminutes\n",
    "\n",
    "        # Convert to V2,V3 positions of the OSIM point source\n",
    "        v2=osim_xact*60. # arcseconds\n",
    "        v3=-(osim_yact+7.8)*60. # arcseconds\n",
    "\n",
    "        # Calculate the deltav2 and deltav3 relative to the reference point\n",
    "        dv2 = (v2-V2REF)/3600. * np.cos(V3REF/3600. * np.pi/180.)# Arc offset in degrees\n",
    "        dv3 = (v3-V3REF)/3600. # Arc offset in degrees\n",
    "        dra = dv2 * np.cos(ROLLREF*np.pi/180.) + dv3 * np.sin(ROLLREF*np.pi/180.)\n",
    "        ddec = -dv2 * np.sin(ROLLREF*np.pi/180.) + dv3 * np.cos(ROLLREF*np.pi/180.)\n",
    "        # Figure out corresponding RA,DEC location\n",
    "        # (subtract because we're pretending that the telescope moved\n",
    "        # instead of the point source?)\n",
    "        RAREF=razp-dra/np.cos(deczp*np.pi/180.)\n",
    "        DECREF=deczp-ddec\n",
    "\n",
    "        # Add dither offset keywords\n",
    "        hdulist[0].header['V2_REF'] = V2REF\n",
    "        hdulist[0].header['V3_REF'] = V3REF\n",
    "        hdulist[0].header['ROLL_REF'] = ROLLREF\n",
    "        hdulist[0].header['RA_REF'] = RAREF\n",
    "        hdulist[0].header['DEC_REF'] = DECREF\n",
    "\n",
    "        directory = os.path.dirname(os.path.realpath(filepath))\n",
    "        filename = filepath.split(directory)[1][1:]\n",
    "        \n",
    "        if os.path.exists(directory+'/processed/') is False:\n",
    "            os.system('mkdir {}/processed'.format(directory))\n",
    "        hdulist.writeto(directory+'/processed/'+filename,overwrite=True)\n",
    "\n",
    "    return"
   ]
  },
  {
   "cell_type": "code",
   "execution_count": 3,
   "metadata": {},
   "outputs": [],
   "source": [
    "# run program\n",
    "mmrs_cv_preprocess()"
   ]
  },
  {
   "cell_type": "code",
   "execution_count": null,
   "metadata": {},
   "outputs": [],
   "source": []
  }
 ],
 "metadata": {
  "kernelspec": {
   "display_name": "Python 2",
   "language": "python",
   "name": "python2"
  },
  "language_info": {
   "codemirror_mode": {
    "name": "ipython",
    "version": 2
   },
   "file_extension": ".py",
   "mimetype": "text/x-python",
   "name": "python",
   "nbconvert_exporter": "python",
   "pygments_lexer": "ipython2",
   "version": "2.7.15"
  }
 },
 "nbformat": 4,
 "nbformat_minor": 2
}
