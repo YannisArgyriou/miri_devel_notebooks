{
 "cells": [
  {
   "cell_type": "markdown",
   "metadata": {},
   "source": [
    "# Update distortion CDP version 8B.05.00 to version 8B.05.01"
   ]
  },
  {
   "cell_type": "code",
   "execution_count": 1,
   "metadata": {},
   "outputs": [],
   "source": [
    "import datetime\n",
    "import numpy as np\n",
    "from astropy.io import fits\n",
    "import numpy.lib.recfunctions as rec\n",
    "\n",
    "import warnings\n",
    "warnings.simplefilter('ignore')"
   ]
  },
  {
   "cell_type": "code",
   "execution_count": 2,
   "metadata": {},
   "outputs": [],
   "source": [
    "# Define paths to data\n",
    "workDir   = '/Users/ioannisa/Desktop/python/miri_devel/'\n",
    "cdpDir    = workDir+'cdp_data/'\n",
    "outDir    = cdpDir+\"CDP8/\""
   ]
  },
  {
   "cell_type": "code",
   "execution_count": 4,
   "metadata": {},
   "outputs": [],
   "source": [
    "# create all new distortion cdps\n",
    "for miri_setup in ['IFUSHORT_12SHORT','IFUSHORT_12MEDIUM','IFUSHORT_12LONG','IFULONG_34SHORT','IFULONG_34MEDIUM','IFULONG_34LONG']:\n",
    "    # open slice map pseudo-cdp\n",
    "    hdulist_slicemap = fits.open(cdpDir+'CDP8/MIRI_FM_MIR{}_SLICEMAP_8B.00.00.fits'.format(miri_setup))\n",
    "    \n",
    "    # initialize cube placeholder\n",
    "    new_sliceMaps = np.zeros((9,1024,1032)) # Make a 1032x1024 array with a total of nine layers (different transmissions)\n",
    "    \n",
    "    # create slice map cube\n",
    "    layer = -1\n",
    "    for transmission in ['10','20','30','40','50','60','70','80','90']:\n",
    "        layer +=1\n",
    "        new_sliceMaps[layer,:,:] = hdulist_slicemap[layer+1].data\n",
    "        \n",
    "    # load old distortion cdp fits file\n",
    "    old_distortion_cdp = fits.open(cdpDir+'CDP8/MIRI_FM_MIR{}_DISTORTION_8B.05.00.fits'.format(miri_setup))\n",
    "    \n",
    "    # change headers\n",
    "    old_distortion_cdp[0].header['DATE']     = datetime.datetime.utcnow().isoformat()\n",
    "    old_distortion_cdp[0].header['FILENAME'] = 'MIRI_FM_MIR{}_DISTORTION_8B.05.01.fits'.format(miri_setup)\n",
    "    old_distortion_cdp[0].header['VERSION']  = '8B.05.01'\n",
    "    old_distortion_cdp[0].header['ORIGFILE'] = 'MIRI_FM_MIR{}_DISTORTION_8B.05.00.fits'.format(miri_setup)\n",
    "    old_distortion_cdp[0].header['USEAFTER'] = \"2000-01-01T00:00:00\"\n",
    "    old_distortion_cdp[0].header.add_history(\"Corrected edge slice boundaries\")\n",
    "    \n",
    "    old_distortion_cdp['Slice_number'].data   = new_sliceMaps.copy()\n",
    "    \n",
    "    for level in range(1,10):\n",
    "        old_distortion_cdp['Slice_number'].header['LEVEL_{}'.format(str(level))] = '{}% transmission slice map'.format(str(int(level*10.)))\n",
    "\n",
    "    # save output\n",
    "    old_distortion_cdp.writeto(outDir + \"MIRI_FM_MIR{}_DISTORTION_8B.05.01.fits\".format(miri_setup),overwrite=True)"
   ]
  },
  {
   "cell_type": "code",
   "execution_count": null,
   "metadata": {},
   "outputs": [],
   "source": []
  }
 ],
 "metadata": {
  "kernelspec": {
   "display_name": "Python 2",
   "language": "python",
   "name": "python2"
  },
  "language_info": {
   "codemirror_mode": {
    "name": "ipython",
    "version": 2
   },
   "file_extension": ".py",
   "mimetype": "text/x-python",
   "name": "python",
   "nbconvert_exporter": "python",
   "pygments_lexer": "ipython2",
   "version": "2.7.15"
  }
 },
 "nbformat": 4,
 "nbformat_minor": 2
}
