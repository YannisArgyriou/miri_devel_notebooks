{
 "cells": [
  {
   "cell_type": "markdown",
   "metadata": {},
   "source": [
    "# Update distortion CDP version 06.04.00 to version 7B.05.00"
   ]
  },
  {
   "cell_type": "code",
   "execution_count": 1,
   "metadata": {},
   "outputs": [],
   "source": [
    "import datetime\n",
    "import numpy as np\n",
    "from astropy.io import fits\n",
    "import numpy.lib.recfunctions as rec\n",
    "\n",
    "import warnings\n",
    "warnings.simplefilter('ignore')"
   ]
  },
  {
   "cell_type": "code",
   "execution_count": 2,
   "metadata": {},
   "outputs": [],
   "source": [
    "# Define paths to data\n",
    "workDir   = '/Users/ioannisa/Desktop/python/miri_devel/'\n",
    "cdpDir    = workDir+'cdp_data/'\n",
    "outDir    = cdpDir+\"CDP7/\""
   ]
  },
  {
   "cell_type": "code",
   "execution_count": 3,
   "metadata": {},
   "outputs": [],
   "source": [
    "def convert_2x2_to_3x3(label,a,b,c,d):\n",
    "    return [label,a,b,0,c,d,0,0,0,0]"
   ]
  },
  {
   "cell_type": "code",
   "execution_count": 14,
   "metadata": {},
   "outputs": [],
   "source": [
    "# create all new distortion cdps\n",
    "for miri_setup in ['IFUSHORT_12SHORT','IFUSHORT_12MEDIUM','IFUSHORT_12LONG','IFULONG_34SHORT','IFULONG_34MEDIUM','IFULONG_34LONG']:\n",
    "    # open slice map pseudo-cdp\n",
    "    hdulist_slicemap = fits.open(cdpDir+'CDP7/MIRI_FM_MIR{}_SLICEMAP_7B.00.00.fits'.format(miri_setup))\n",
    "    \n",
    "    # initialize cube placeholder\n",
    "    new_sliceMaps = np.zeros((9,1024,1032)) # Make a 1032x1024 array with a total of nine layers (different transmissions)\n",
    "    \n",
    "    # create slice map cube\n",
    "    layer = -1\n",
    "    for transmission in ['10','20','30','40','50','60','70','80','90']:\n",
    "        layer +=1\n",
    "        new_sliceMaps[layer,:,:] = hdulist_slicemap[layer+1].data\n",
    "        \n",
    "    # load old distortion cdp fits file\n",
    "    old_distortion_cdp = fits.open(cdpDir+'CDP7/MIRI_FM_MIR{}_DISTORTION_06.04.00.fits'.format(miri_setup))\n",
    "    \n",
    "    # change headers\n",
    "    old_distortion_cdp[0].header['DATE']     = datetime.datetime.utcnow().isoformat()\n",
    "    old_distortion_cdp[0].header['FILENAME'] = 'MIRI_FM_MIR{}_DISTORTION_7B.05.00.fits'.format(miri_setup)\n",
    "    old_distortion_cdp[0].header['VERSION']  = '7B.05.00'\n",
    "    old_distortion_cdp[0].header.add_history(\"- created new slice maps based on slice transmission -> DOCUMENT:\")\n",
    "    old_distortion_cdp[0].header.add_history(\"- MIRI-TN-00005-KUL, Ioannis Argyriou and Bart Vandenbussche\")\n",
    "    old_distortion_cdp[0].header['ORIGFILE'] = 'MIRI_FM_MIR{}_DISTORTION_06.04.00.fits'.format(miri_setup)\n",
    "    old_distortion_cdp[0].header['USEAFTER'] = \"2000-01-01T00:00:00\"\n",
    "    old_distortion_cdp[0].header.add_history(\"- increased the power in the albe_to_XANYAN matrices from i,j = 0,1 to\")\n",
    "    old_distortion_cdp[0].header.add_history(\"- i,j = 0,1,2\")\n",
    "    old_distortion_cdp[0].header.add_history(\"- increased the power in the XANYAN_to_albe matrices from i,j = 0,1 to\")\n",
    "    old_distortion_cdp[0].header.add_history(\"- i,j = 0,1,2\")\n",
    "\n",
    "    # extend definition of transform matrices from alpha-beta to XAN/YAN and vice-versa\n",
    "    albe_to_XANYAN = old_distortion_cdp['albe_to_XANYAN'].data.copy()\n",
    "    XANYAN_to_albe = old_distortion_cdp['XANYAN_to_albe'].data.copy()\n",
    "\n",
    "    albe_to_XANYAN_new = np.rec.array([convert_2x2_to_3x3(*list(albe_to_XANYAN[0])),\n",
    "                  convert_2x2_to_3x3(*list(albe_to_XANYAN[1])),\n",
    "                  convert_2x2_to_3x3(*list(albe_to_XANYAN[2])),\n",
    "                  convert_2x2_to_3x3(*list(albe_to_XANYAN[3]))],dtype=[('LABEL', 'S16'), ('COEFF_0_0', 'float64'), ('COEFF_0_1', 'float64'), ('COEFF_0_2', 'float64'), ('COEFF_1_0', 'float64'), ('COEFF_1_1', 'float64'), ('COEFF_1_2', 'float64'), ('COEFF_2_0', 'float64'), ('COEFF_2_1', 'float64'), ('COEFF_2_2', 'float64')])\n",
    "\n",
    "    XANYAN_to_albe_new = np.rec.array([convert_2x2_to_3x3(*list(XANYAN_to_albe[0])),\n",
    "                  convert_2x2_to_3x3(*list(XANYAN_to_albe[1])),\n",
    "                  convert_2x2_to_3x3(*list(XANYAN_to_albe[2])),\n",
    "                  convert_2x2_to_3x3(*list(XANYAN_to_albe[3]))],dtype=[('LABEL', 'S16'), ('COEFF_0_0', 'float64'), ('COEFF_0_1', 'float64'), ('COEFF_0_2', 'float64'), ('COEFF_1_0', 'float64'), ('COEFF_1_1', 'float64'), ('COEFF_1_2', 'float64'), ('COEFF_2_0', 'float64'), ('COEFF_2_1', 'float64'), ('COEFF_2_2', 'float64')])\n",
    "\n",
    "    # update corresponding fits extensions\n",
    "    old_distortion_cdp['albe_to_XANYAN'].data = albe_to_XANYAN_new\n",
    "    old_distortion_cdp['XANYAN_to_albe'].data = XANYAN_to_albe_new\n",
    "    old_distortion_cdp['Slice_number'].data   = new_sliceMaps.copy()\n",
    "    \n",
    "    for level in range(1,10):\n",
    "        old_distortion_cdp['Slice_number'].header['LEVEL_{}'.format(str(level))] = '{}% transmission slice map'.format(str(int(level*10.)))\n",
    "\n",
    "    # save output\n",
    "    old_distortion_cdp.writeto(outDir + \"MIRI_FM_MIR{}_DISTORTION_7B.05.00.fits\".format(miri_setup),overwrite=True)"
   ]
  }
 ],
 "metadata": {
  "kernelspec": {
   "display_name": "Python 2",
   "language": "python",
   "name": "python2"
  },
  "language_info": {
   "codemirror_mode": {
    "name": "ipython",
    "version": 2
   },
   "file_extension": ".py",
   "mimetype": "text/x-python",
   "name": "python",
   "nbconvert_exporter": "python",
   "pygments_lexer": "ipython2",
   "version": "2.7.15"
  }
 },
 "nbformat": 4,
 "nbformat_minor": 2
}
