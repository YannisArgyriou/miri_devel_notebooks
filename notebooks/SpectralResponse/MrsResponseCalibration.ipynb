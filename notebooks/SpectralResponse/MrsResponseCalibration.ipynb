{
 "cells": [
  {
   "cell_type": "code",
   "execution_count": 1,
   "metadata": {},
   "outputs": [],
   "source": [
    "import numpy as np\n",
    "import pyfits\n",
    "import matplotlib.pyplot as plt\n",
    "%matplotlib notebook\n",
    "from scipy.interpolate import interp1d"
   ]
  },
  {
   "cell_type": "code",
   "execution_count": 2,
   "metadata": {
    "collapsed": true
   },
   "outputs": [],
   "source": [
    "# Populate dictionaries with the wavelength, pixel size and validity maps \n",
    "# (corresponding to the detector plane)\n",
    "\n",
    "# Location where we have the lambda and solid angle maps\n",
    "pixelDataDir = \"/Users/bart/Work/miri/spectroPhotometricCalibration/processing/CDP6MRSFluxCal/pixelCoordinates/\"\n",
    "\n",
    "sizeMap = {}\n",
    "validMap = {}\n",
    "lambdaMap = {}\n",
    "\n",
    "for band in [\"1A\", \"1B\", \"1C\", \"2A\", \"2B\", \"2C\", \"3A\", \"3B\", \"3C\", \"4A\", \"4B\", \"4C\"]:\n",
    "    lambdaMap[band] = pyfits.open( pixelDataDir + \"lambdaMap\" + band + \".fits\" )[0].data\n",
    "    sizeMap[band]   = pyfits.open( pixelDataDir + \"sizeMap\"   + band + \".fits\" )[0].data\n",
    "    validMap[band]  = pyfits.open( pixelDataDir +\"validMap\"   + band + \".fits\" )[0].data"
   ]
  },
  {
   "cell_type": "code",
   "execution_count": 3,
   "metadata": {},
   "outputs": [],
   "source": [
    "plt.imshow(lambdaMap[\"2A\"])\n",
    "clb = plt.colorbar()\n",
    "clb.set_label('Wavelength [$\\mu$]')\n",
    "plt.title(\"Central wavelength of every pixel - band 2A\")"
   ]
  },
  {
   "cell_type": "code",
   "execution_count": 4,
   "metadata": {},
   "outputs": [],
   "source": [
    "plt.imshow(sizeMap[\"1A\"])\n",
    "clb = plt.colorbar()\n",
    "clb.set_label('size [arcsec2]')\n",
    "plt.title(\"Pixel size\")"
   ]
  },
  {
   "cell_type": "code",
   "execution_count": 5,
   "metadata": {},
   "outputs": [],
   "source": [
    "# Populate dictionaries with maps of L_sky\n",
    "\n",
    "# Location where we have the L_sky files for different BB temperatures\n",
    "MTSDir = \"/Users/bart/Work/miri/spectroPhotometricCalibration/processing/CDP6MRSFluxCal/MtsIrradiance/\"\n",
    "L_skyMap = {}\n",
    "for BBTemp in [\"400K\", \"600K\", \"800K\"]:\n",
    "    L_skyMap[BBTemp] = {}   \n",
    "    tabLSky = pyfits.open(MTSDir+ \"MTSEquivalentLsky\" + BBTemp + \".fits\" )[1]\n",
    "    ip_Lsky = interp1d(tabLSky.data[\"wave\"], tabLSky.data[\"L_sky\"], kind='cubic')\n",
    "    for band in [\"1A\", \"1B\", \"1C\", \"2A\", \"2B\", \"2C\", \"3A\", \"3B\", \"3C\", \"4A\", \"4B\", \"4C\"]:\n",
    "        L_skyMap[BBTemp][band] = np.full( validMap[band].shape, np.nan )\n",
    "        sel = (validMap[band]==1)\n",
    "        waves = np.reshape(lambdaMap[band][sel], -1)\n",
    "        L_skyMap[BBTemp][band][sel] = ip_Lsky(waves)*1000. #mJy/arcsec^2\n",
    "    "
   ]
  },
  {
   "cell_type": "code",
   "execution_count": 6,
   "metadata": {},
   "outputs": [],
   "source": [
    "plt.imshow(L_skyMap[\"800K\"][\"2A\"])\n",
    "clb = plt.colorbar()\n",
    "clb.set_label('equiv. spectral radiance [mJy/arcsec$^2$]')\n",
    "plt.title(\"Equivalent spectral radiance 800K BB / band 2A\")"
   ]
  },
  {
   "cell_type": "code",
   "execution_count": 7,
   "metadata": {},
   "outputs": [],
   "source": [
    "# Populate dictionaries with maps of E_pix\n",
    "# Calculate the spectral irradiance E_pix : [mJy/pixel]\n",
    "# E_pix = omega_pix * L_pix\n",
    "E_pixMap = {}\n",
    "for BBTemp in [\"400K\", \"600K\", \"800K\"]:\n",
    "    E_pixMap[BBTemp] = {}   \n",
    "    for band in [\"1A\", \"1B\", \"1C\", \"2A\", \"2B\", \"2C\", \"3A\", \"3B\", \"3C\", \"4A\", \"4B\", \"4C\"]:\n",
    "        E_pixMap[BBTemp][band] = np.full( validMap[band].shape, np.nan )\n",
    "        sel = (validMap[band]==1)\n",
    "        E_pixMap[BBTemp][band][sel] = sizeMap[band][sel] * L_skyMap[BBTemp][band][sel]"
   ]
  },
  {
   "cell_type": "code",
   "execution_count": 8,
   "metadata": {},
   "outputs": [],
   "source": [
    "plt.imshow(E_pixMap[\"800K\"][\"2A\"])\n",
    "clb = plt.colorbar()\n",
    "clb.set_label('equiv. spectral irradiance [mJy/pixel]')\n",
    "plt.title(\"Equivalent spectral irradiance 800K BB / band 2A\")\n"
   ]
  },
  {
   "cell_type": "code",
   "execution_count": 9,
   "metadata": {
    "collapsed": true
   },
   "outputs": [],
   "source": [
    "L2Dir = \"/Users/bart/Work/miri/spectroPhotometricCalibration/RALdata/L2/\"\n",
    "L2F=\\\n",
    "{'400K1ABLANK': 'MIRFM1T00011820_1_495_SE_2011-06-17T15h29m07_LVL2.fits',\n",
    " '400K1AHOLE': 'MIRFM1T00011819_1_495_SE_2011-06-17T14h32m35_LVL2.fits',\n",
    " '400K1BBLANK': 'MIRFM1T00011823_1_495_SE_2011-06-17T17h39m40_LVL2.fits',\n",
    " '400K1BHOLE': 'MIRFM1T00011822_1_495_SE_2011-06-17T16h41m44_LVL2.fits',\n",
    " '400K1CBLANK': 'MIRFM1T00011818_1_495_SE_2011-06-17T13h34m18_LVL2.fits',\n",
    " '400K1CHOLE': 'MIRFM1T00011817_1_495_SE_2011-06-17T12h27m28_LVL2.fits',\n",
    " '400K2ABLANK': 'MIRFM1T00011820_1_495_SE_2011-06-17T15h29m07_LVL2.fits',\n",
    " '400K2AHOLE': 'MIRFM1T00011819_1_495_SE_2011-06-17T14h32m35_LVL2.fits',\n",
    " '400K2BBLANK': 'MIRFM1T00011823_1_495_SE_2011-06-17T17h39m40_LVL2.fits',\n",
    " '400K2BHOLE': 'MIRFM1T00011822_1_495_SE_2011-06-17T16h41m44_LVL2.fits',\n",
    " '400K2CBLANK': 'MIRFM1T00011818_1_495_SE_2011-06-17T13h34m18_LVL2.fits',\n",
    " '400K2CHOLE': 'MIRFM1T00011817_1_495_SE_2011-06-17T12h27m28_LVL2.fits',\n",
    " '400K3ABLANK': 'MIRFM1T00011820_1_494_SE_2011-06-17T15h28m37_LVL2.fits',\n",
    " '400K3AHOLE': 'MIRFM1T00011819_1_494_SE_2011-06-17T14h32m05_LVL2.fits',\n",
    " '400K3BBLANK': 'MIRFM1T00011823_1_494_SE_2011-06-17T17h39m10_LVL2.fits',\n",
    " '400K3BHOLE': 'MIRFM1T00011822_1_494_SE_2011-06-17T16h41m14_LVL2.fits',\n",
    " '400K3CBLANK': 'MIRFM1T00011818_1_494_SE_2011-06-17T13h33m48_LVL2.fits',\n",
    " '400K3CHOLE': 'MIRFM1T00011817_1_494_SE_2011-06-17T12h26m58_LVL2.fits',\n",
    " '400K4ABLANK': 'MIRFM1T00011820_1_494_SE_2011-06-17T15h28m37_LVL2.fits',\n",
    " '400K4AHOLE': 'MIRFM1T00011819_1_494_SE_2011-06-17T14h32m05_LVL2.fits',\n",
    " '400K4BBLANK': 'MIRFM1T00011823_1_494_SE_2011-06-17T17h39m10_LVL2.fits',\n",
    " '400K4BHOLE': 'MIRFM1T00011822_1_494_SE_2011-06-17T16h41m14_LVL2.fits',\n",
    " '400K4CBLANK': 'MIRFM1T00011818_1_494_SE_2011-06-17T13h33m48_LVL2.fits',\n",
    " '400K4CHOLE': 'MIRFM1T00011817_1_494_SE_2011-06-17T12h26m58_LVL2.fits',\n",
    " '600K1ABLANK': 'MIRFM1T00011983_1_495_SE_2011-06-19T04h57m29_LVL2.fits',\n",
    " '600K1AHOLE': 'MIRFM1T00011982_1_495_SE_2011-06-19T03h57m48_LVL2.fits',\n",
    " '600K1BBLANK': 'MIRFM1T00011985_1_495_SE_2011-06-19T06h55m53_LVL2.fits',\n",
    " '600K1BHOLE': 'MIRFM1T00011984_1_495_SE_2011-06-19T05h55m41_LVL2.fits',\n",
    " '600K1CBLANK': 'MIRFM1T00011987_1_495_SE_2011-06-19T08h50m05_LVL2.fits',\n",
    " '600K1CHOLE': 'MIRFM1T00011986_1_495_SE_2011-06-19T07h53m34_LVL2.fits',\n",
    " '600K2ABLANK': 'MIRFM1T00011983_1_495_SE_2011-06-19T04h57m29_LVL2.fits',\n",
    " '600K2AHOLE': 'MIRFM1T00011982_1_495_SE_2011-06-19T03h57m48_LVL2.fits',\n",
    " '600K2BBLANK': 'MIRFM1T00011985_1_495_SE_2011-06-19T06h55m53_LVL2.fits',\n",
    " '600K2BHOLE': 'MIRFM1T00011984_1_495_SE_2011-06-19T05h55m41_LVL2.fits',\n",
    " '600K2CBLANK': 'MIRFM1T00011987_1_495_SE_2011-06-19T08h50m05_LVL2.fits',\n",
    " '600K2CHOLE': 'MIRFM1T00011986_1_495_SE_2011-06-19T07h53m34_LVL2.fits',\n",
    " '600K3ABLANK': 'MIRFM1T00011983_1_494_SE_2011-06-19T04h57m00_LVL2.fits',\n",
    " '600K3AHOLE': 'MIRFM1T00011982_1_494_SE_2011-06-19T03h57m18_LVL2.fits',\n",
    " '600K3BBLANK': 'MIRFM1T00011985_1_494_SE_2011-06-19T06h55m23_LVL2.fits',\n",
    " '600K3BHOLE': 'MIRFM1T00011984_1_494_SE_2011-06-19T05h55m11_LVL2.fits',\n",
    " '600K3CBLANK': 'MIRFM1T00011987_1_494_SE_2011-06-19T08h49m36_LVL2.fits',\n",
    " '600K3CHOLE': 'MIRFM1T00011986_1_494_SE_2011-06-19T07h53m05_LVL2.fits',\n",
    " '600K4ABLANK': 'MIRFM1T00011983_1_494_SE_2011-06-19T04h57m00_LVL2.fits',\n",
    " '600K4AHOLE': 'MIRFM1T00011982_1_494_SE_2011-06-19T03h57m18_LVL2.fits',\n",
    " '600K4BBLANK': 'MIRFM1T00011985_1_494_SE_2011-06-19T06h55m23_LVL2.fits',\n",
    " '600K4BHOLE': 'MIRFM1T00011984_1_494_SE_2011-06-19T05h55m11_LVL2.fits',\n",
    " '600K4CBLANK': 'MIRFM1T00011987_1_494_SE_2011-06-19T08h49m36_LVL2.fits',\n",
    " '600K4CHOLE': 'MIRFM1T00011986_1_494_SE_2011-06-19T07h53m05_LVL2.fits',\n",
    " '800K1ABLANK': 'MIRFM1T00011285_1_495_SE_2011-05-31T05h06m47_LVL2.fits',\n",
    " '800K1AHOLE': 'MIRFM1T00011282_1_495_SE_2011-05-31T02h15m32_LVL2.fits',\n",
    " '800K1BBLANK': 'MIRFM1T00011286_1_495_SE_2011-05-31T06h03m43_LVL2.fits',\n",
    " '800K1BHOLE': 'MIRFM1T00011283_1_495_SE_2011-05-31T03h12m30_LVL2.fits',\n",
    " '800K1CBLANK': 'MIRFM1T00011287_1_495_SE_2011-05-31T07h00m44_LVL2.fits',\n",
    " '800K1CHOLE': 'MIRFM1T00011284_1_495_SE_2011-05-31T04h09m25_LVL2.fits',\n",
    " '800K2ABLANK': 'MIRFM1T00011285_1_495_SE_2011-05-31T05h06m47_LVL2.fits',\n",
    " '800K2AHOLE': 'MIRFM1T00011282_1_495_SE_2011-05-31T02h15m32_LVL2.fits',\n",
    " '800K2BBLANK': 'MIRFM1T00011286_1_495_SE_2011-05-31T06h03m43_LVL2.fits',\n",
    " '800K2BHOLE': 'MIRFM1T00011283_1_495_SE_2011-05-31T03h12m30_LVL2.fits',\n",
    " '800K2CBLANK': 'MIRFM1T00011287_1_495_SE_2011-05-31T07h00m44_LVL2.fits',\n",
    " '800K2CHOLE': 'MIRFM1T00011284_1_495_SE_2011-05-31T04h09m25_LVL2.fits',\n",
    " '800K3ABLANK': 'MIRFM1T00011285_1_494_SE_2011-05-31T05h06m17_LVL2.fits',\n",
    " '800K3AHOLE': 'MIRFM1T00011282_1_494_SE_2011-05-31T02h15m02_LVL2.fits',\n",
    " '800K3BBLANK': 'MIRFM1T00011286_1_494_SE_2011-05-31T06h03m14_LVL2.fits',\n",
    " '800K3BHOLE': 'MIRFM1T00011283_1_494_SE_2011-05-31T03h11m59_LVL2.fits',\n",
    " '800K3CBLANK': 'MIRFM1T00011287_1_494_SE_2011-05-31T07h00m15_LVL2.fits',\n",
    " '800K3CHOLE': 'MIRFM1T00011284_1_494_SE_2011-05-31T04h08m55_LVL2.fits',\n",
    " '800K4ABLANK': 'MIRFM1T00011285_1_494_SE_2011-05-31T05h06m17_LVL2.fits',\n",
    " '800K4AHOLE': 'MIRFM1T00011282_1_494_SE_2011-05-31T02h15m02_LVL2.fits',\n",
    " '800K4BBLANK': 'MIRFM1T00011286_1_494_SE_2011-05-31T06h03m14_LVL2.fits',\n",
    " '800K4BHOLE': 'MIRFM1T00011283_1_494_SE_2011-05-31T03h11m59_LVL2.fits',\n",
    " '800K4CBLANK': 'MIRFM1T00011287_1_494_SE_2011-05-31T07h00m15_LVL2.fits',\n",
    " '800K4CHOLE': 'MIRFM1T00011284_1_494_SE_2011-05-31T04h08m55_LVL2.fits'}\n",
    "\n",
    "\n",
    "\n"
   ]
  },
  {
   "cell_type": "code",
   "execution_count": 10,
   "metadata": {},
   "outputs": [],
   "source": [
    "# Populate dictionaries with maps of S_pix [DN/sec] and dS_pix (the error)\n",
    "# S_pix is the average slope of the BB measurement with the average slope of the\n",
    "# background measurement subtracted.\n",
    "# We also populate the Bad pixel map (0 = ok, 1 = do not use)\n",
    "\n",
    "S_pixMap = {}\n",
    "dS_pixMap = {}\n",
    "BadPixelMap ={}\n",
    "for BBTemp in [\"400K\",\"600K\", \"800K\"]:\n",
    "    S_pixMap[BBTemp] = {}\n",
    "    dS_pixMap[BBTemp] = {}\n",
    "    BadPixelMap[BBTemp] = {}\n",
    "    for band in [\"1A\", \"1B\", \"1C\", \"2A\", \"2B\", \"2C\", \"3A\", \"3B\", \"3C\", \"4A\", \"4B\", \"4C\"]:\n",
    "        S_pixMap[BBTemp][band] = np.full( validMap[band].shape, np.nan )\n",
    "        dS_pixMap[BBTemp][band] = np.full( validMap[band].shape, np.nan )\n",
    "        BadPixelMap[BBTemp][band] = np.full( validMap[band].shape, 0 )\n",
    "        hdulist = pyfits.open(L2Dir+L2F[BBTemp+band+\"HOLE\"])\n",
    "        slopeHOLE = hdulist[0].data[0,:,:]\n",
    "        dslopeHOLE = hdulist[0].data[1,:,:]\n",
    "        maskHOLE = hdulist[0].data[2,:,:]\n",
    "        hdulist = pyfits.open(L2Dir+L2F[BBTemp+band+\"BLANK\"])\n",
    "        slopeBLANK = hdulist[0].data[0,:,:]\n",
    "        dslopeBLANK = hdulist[0].data[1,:,:]\n",
    "        maskBLANK = hdulist[0].data[2,:,:]\n",
    "        sel = (validMap[band]==1)& (maskHOLE==0) & (maskBLANK==0)\n",
    "        S_pixMap[BBTemp][band][sel] = slopeHOLE[sel] - slopeBLANK[sel]\n",
    "        dS_pixMap[BBTemp][band][sel] = np.sqrt(dslopeHOLE[sel]**2 + dslopeBLANK[sel]**2)\n",
    "        BadPixelMap[BBTemp][band][(validMap[band]==1)& (maskHOLE>0) & (maskBLANK>0)] = 1"
   ]
  },
  {
   "cell_type": "code",
   "execution_count": 11,
   "metadata": {},
   "outputs": [],
   "source": [
    "plt.imshow(S_pixMap[\"800K\"][\"3C\"], interpolation=\"nearest\")\n",
    "clb = plt.colorbar()\n",
    "clb.set_label('slopes [DN/sec]')\n",
    "plt.title(\"BG subtracted slopes (band 3C, 800K BB measurement)\")"
   ]
  },
  {
   "cell_type": "code",
   "execution_count": 12,
   "metadata": {},
   "outputs": [],
   "source": [
    "# Populate dictionaries with maps of R_pix [DN/sec/mJy/pixel] and dR_pix \n",
    "# \n",
    "\n",
    "\n",
    "R_pixMap = {}\n",
    "dR_pixMap = {}\n",
    "\n",
    "for BBTemp in [\"400K\",\"600K\", \"800K\"]:\n",
    "    R_pixMap[BBTemp] = {}\n",
    "    dR_pixMap[BBTemp] = {}\n",
    "    for band in [\"1A\", \"1B\", \"1C\", \"2A\", \"2B\", \"2C\", \"3A\", \"3B\", \"3C\", \"4A\", \"4B\", \"4C\"]:\n",
    "        R_pixMap[BBTemp][band] = np.full( validMap[band].shape, np.nan )\n",
    "        dR_pixMap[BBTemp][band] = np.full( validMap[band].shape, np.nan )\n",
    "        sel = (validMap[band]==1)& (BadPixelMap[BBTemp][band]==0)\n",
    "        R_pixMap[BBTemp][band][sel] = S_pixMap[BBTemp][band][sel] / E_pixMap[BBTemp][band][sel]\n",
    "        dR_pixMap[BBTemp][band][sel] = R_pixMap[BBTemp][band][sel] * dS_pixMap[BBTemp][band][sel]/S_pixMap[BBTemp][band][sel]\n",
    "        "
   ]
  },
  {
   "cell_type": "code",
   "execution_count": 13,
   "metadata": {},
   "outputs": [],
   "source": [
    "plt.imshow(R_pixMap[\"800K\"][\"2A\"]/R_pixMap[\"600K\"][\"2A\"], interpolation=\"nearest\",vmin=0.9,vmax=1.1)\n",
    "clb = plt.colorbar()\n",
    "clb.set_label('ratio')\n",
    "plt.title(\"2A Response from 800K BB / 600K BB\")"
   ]
  },
  {
   "cell_type": "code",
   "execution_count": 14,
   "metadata": {},
   "outputs": [],
   "source": [
    "rat = (R_pixMap[\"800K\"][\"1C\"]/R_pixMap[\"600K\"][\"1C\"])\n",
    "np.median(rat[~np.isnan(rat)])"
   ]
  },
  {
   "cell_type": "code",
   "execution_count": 15,
   "metadata": {},
   "outputs": [],
   "source": [
    "plt.imshow(dR_pixMap[\"800K\"][\"2A\"]/R_pixMap[\"800K\"][\"2A\"], interpolation=\"nearest\",vmin=0)\n",
    "clb = plt.colorbar()\n",
    "clb.set_label('uncertainty (relative)')\n",
    "plt.title(\"2A Response from 800K BB\")"
   ]
  },
  {
   "cell_type": "code",
   "execution_count": 16,
   "metadata": {},
   "outputs": [],
   "source": [
    "plt.plot(np.reshape(R_pixMap[\"600K\"][\"2A\"],-1), np.reshape(R_pixMap[\"800K\"][\"2A\"]/R_pixMap[\"600K\"][\"2A\"],-1),\".\",alpha=0.01)"
   ]
  },
  {
   "cell_type": "code",
   "execution_count": 17,
   "metadata": {},
   "outputs": [],
   "source": [
    "oldCdp = pyfits.open(\"/Users/bart/Work/miri/CDP6/CALSPEC2_MRS/absolute_flux_calibration/PHOTOM/referencefile/MIRI_FM_MIRIFUSHORT_1LONG_PHOTOM_03.02.00.fits\")\n",
    "dq_def = oldCdp[4]"
   ]
  },
  {
   "cell_type": "code",
   "execution_count": 18,
   "metadata": {
    "collapsed": true
   },
   "outputs": [],
   "source": [
    "outDir = \"/Users/bart/Work/miri/spectroPhotometricCalibration/CDP7/\""
   ]
  },
  {
   "cell_type": "code",
   "execution_count": 19,
   "metadata": {},
   "outputs": [],
   "source": [
    "def makeHeader(detector=\"MIRIFUSHORT\", channel=\"12\", band=\"SHORT\"):\n",
    "    hdu0 = pyfits.PrimaryHDU()\n",
    "    hdu0.header[\"TELESCOP\"]=\"JWST\"\n",
    "    hdu0.header[\"INSTRUME\"]=\"MIRI\"\n",
    "    hdu0.header[\"MODELNAM\"]=(\"FM\", \"Instrument model name\")\n",
    "    hdu0.header[\"DETECTOR\"]=detector\n",
    "    hdu0.header[\"DETSETNG\"]=\"ANY\"\n",
    "    hdu0.header[\"READPATT\"]=\"ANY\"\n",
    "    hdu0.header[\"SUBARRAY\"]=\"GENERIC\"\n",
    "    hdu0.header[\"SUBSTRT1\"]= 1                                            \n",
    "    hdu0.header[\"SUBSIZE1\"]= 1032                                              \n",
    "    hdu0.header[\"SUBSTRT2\"]= 1                                                \n",
    "    hdu0.header[\"SUBSIZE2\"]= 1024                                           \n",
    "    hdu0.header[\"FASTAXIS\"]= 1                                               \n",
    "    hdu0.header[\"SLOWAXIS\"]= 2\n",
    "    hdu0.header[\"CHANNEL\"] = channel\n",
    "    hdu0.header[\"BAND\"]    = band\n",
    "    hdu0.header[\"FILENAME\"]= \"MIRI_FM_\"+detector+\"_\"+channel+band+\"_PHOTOM_7B.03.00.fits\"\n",
    "    hdu0.header[\"DATE\"]=\"2017-01-24\"\n",
    "    hdu0.header[\"VERSION\"] =\"7B.03.00\"\n",
    "    hdu0.header[\"USEAFTER\"] =\"2000-01-01T00:00:00\"\n",
    "    hdu0.header[\"AUTHOR\"]  =\"Bart Vandenbussche\"\n",
    "    hdu0.header[\"ORIGIN\"]  = \"MIRI European Consortium\"\n",
    "    hdu0.header[\"EXP_TYPE\"]= \"MIR_MRS\"\n",
    "    hdu0.header[\"REFTYPE\"] =\"PHOTOM\"\n",
    "    hdu0.header[\"DESCRIP\"] = 'CDP-7 MIRI MRS response'\n",
    "    hdu0.header[\"PEDIGREE\"] = 'GROUND'\n",
    "    hdu0.header.add_history(\"DOCUMENT: MIRI-TN-00003-KUL issue 1.2\")\n",
    "    hdu0.header.add_history(\"SOFTWARE: MIRICLE \")\n",
    "    hdu0.header.add_history(\"DATA USED: RAL FM data obsId 11282 .. 11287\")\n",
    "    hdu0.header.add_history(\"DIFFERENCES: 06.03.00 Detector plane calibration (new format)\")\n",
    "    hdu0.header.add_history(\"DIFFERENCES: 06.03.01 Corrected error in PIXSIZ extension\")\n",
    "    hdu0.header.add_history(\"DIFFERENCES: 06.03.02 Fringe flat 06.02.00 applied\")\n",
    "    hdu0.header.add_history(\"DIFFERENCES: 7B.03.00 Renumbered to CDP7 Beta / fixed USEAFTER\")\n",
    "    return hdu0\n"
   ]
  },
  {
   "cell_type": "code",
   "execution_count": 20,
   "metadata": {},
   "outputs": [],
   "source": [
    "from miri.miritools.dataproduct.cdp import MiriFlatfieldModel\n",
    "fringeDir = \"/Users/bart/Work/miri/CDP6/CALSPEC2_MRS/fringe_correction/FRINGE/referencefile/\"\n",
    "ff= {}\n",
    "ff[\"LONGLONG\"]=MiriFlatfieldModel(fringeDir+\"MIRI_FM_MIRIFULONG_34LONG_FRINGE_06.02.00.fits\").data\n",
    "ff[\"LONGMEDIUM\"]=MiriFlatfieldModel(fringeDir+\"MIRI_FM_MIRIFULONG_34MEDIUM_FRINGE_06.02.00.fits\").data\n",
    "ff[\"LONGSHORT\"]=MiriFlatfieldModel(fringeDir+\"MIRI_FM_MIRIFULONG_34SHORT_FRINGE_06.02.00.fits\").data\n",
    "ff[\"SHORTLONG\"]=MiriFlatfieldModel(fringeDir+\"MIRI_FM_MIRIFUSHORT_12LONG_FRINGE_06.02.00.fits\").data\n",
    "ff[\"SHORTMEDIUM\"]=MiriFlatfieldModel(fringeDir+\"MIRI_FM_MIRIFUSHORT_12MEDIUM_FRINGE_06.02.00.fits\").data\n",
    "ff[\"SHORTSHORT\"]=MiriFlatfieldModel(fringeDir+\"MIRI_FM_MIRIFUSHORT_12SHORT_FRINGE_06.02.00.fits\").data"
   ]
  },
  {
   "cell_type": "markdown",
   "metadata": {},
   "source": [
    "# SHORT SHORT = 1A / 2A"
   ]
  },
  {
   "cell_type": "code",
   "execution_count": 21,
   "metadata": {},
   "outputs": [],
   "source": [
    "hdu0 = makeHeader(detector=\"MIRIFUSHORT\", channel=\"12\", band=\"SHORT\")\n",
    "\n",
    "resp = R_pixMap[\"800K\"][\"2A\"].copy()\n",
    "err = dR_pixMap[\"800K\"][\"2A\"].copy()\n",
    "size = sizeMap[\"2A\"].copy()\n",
    "\n",
    "sel = (validMap[\"1A\"]==1)\n",
    "resp[sel] = R_pixMap[\"800K\"][\"1A\"][sel]\n",
    "err[sel] = dR_pixMap[\"800K\"][\"1A\"][sel]\n",
    "size[sel] = sizeMap[\"1A\"][sel]\n",
    "\n",
    "sel = (( validMap[\"1A\"] + validMap[\"2A\"] )==1)\n",
    "resp[sel] = resp[sel]/ff[\"SHORTSHORT\"][sel]\n",
    "\n",
    "dq = np.full( validMap[\"1A\"].shape, 2 )\n",
    "sel = (validMap[\"1A\"]==1)\n",
    "dq[sel] = 0\n",
    "sel = (validMap[\"2A\"]==1)\n",
    "dq[sel] = 0\n",
    "dq = dq + BadPixelMap[\"800K\"][\"1A\"]\n",
    "dq = dq + BadPixelMap[\"800K\"][\"2A\"]\n",
    "\n",
    "hdu1 = pyfits.ImageHDU(data=resp, header=None, name=\"SCI\")\n",
    "hdu1.header[\"BUNIT\"]= \"DN sec^-1 mJy^-1 pixel\"\n",
    "hdu2 = pyfits.ImageHDU(data=err, header=None, name=\"ERR\")\n",
    "hdu2.header[\"BUNIT\"]= \"DN sec^-1 mJy^-1 pixel\"\n",
    "hdu3 = pyfits.ImageHDU(data=dq, header=None, name=\"DQ\")\n",
    "hdu4 = pyfits.ImageHDU(data=size, header=None, name=\"PIXSIZ\")\n",
    "hdu4.header[\"BUNIT\"]= \"arcsec^2\"\n",
    "hdulist = pyfits.HDUList([hdu0,hdu1, hdu2, hdu3, dq_def, hdu4])\n",
    "hdulist.writeto(outDir + \"MIRI_FM_MIRIFUSHORT_12SHORT_PHOTOM_7B.03.00.fits\" )"
   ]
  },
  {
   "cell_type": "code",
   "execution_count": 22,
   "metadata": {},
   "outputs": [],
   "source": [
    "plt.imshow(resp, interpolation=\"nearest\", vmin=0,vmax=3)\n",
    "clb = plt.colorbar()\n",
    "clb.set_label('Response[DN sec^-1 mJy^-1 pixel]')\n",
    "plt.title(\"Response SHORT/SHORT (1A/2A)\")"
   ]
  },
  {
   "cell_type": "code",
   "execution_count": 23,
   "metadata": {},
   "outputs": [],
   "source": [
    "plt.plot(resp[:,210])\n",
    "plt.plot(resp[:,800])\n",
    "plt.plot(R_pixMap[\"800K\"][\"2A\"][:,800])\n",
    "plt.plot(R_pixMap[\"800K\"][\"1A\"][:,210])\n"
   ]
  },
  {
   "cell_type": "markdown",
   "metadata": {},
   "source": [
    "# SHORT MEDIUM = 1B / 2B"
   ]
  },
  {
   "cell_type": "code",
   "execution_count": 24,
   "metadata": {},
   "outputs": [],
   "source": [
    "hdu0 = makeHeader(detector=\"MIRIFUSHORT\", channel=\"12\", band=\"MEDIUM\")\n",
    "resp = R_pixMap[\"800K\"][\"2B\"].copy()\n",
    "err = dR_pixMap[\"800K\"][\"2B\"].copy() \n",
    "size = sizeMap[\"2B\"].copy()\n",
    "\n",
    "sel = (validMap[\"1B\"]==1)\n",
    "resp[sel] = R_pixMap[\"800K\"][\"1B\"][sel]\n",
    "err[sel] = dR_pixMap[\"800K\"][\"1B\"][sel]\n",
    "size[sel] = sizeMap[\"1B\"][sel]\n",
    "\n",
    "sel = (( validMap[\"1B\"] + validMap[\"2B\"] )==1)\n",
    "resp[sel] = resp[sel]/ff[\"SHORTMEDIUM\"][sel]\n",
    "\n",
    "dq = np.full( validMap[\"1B\"].shape, 2 )\n",
    "sel = (validMap[\"1B\"]==1)\n",
    "dq[sel] = 0\n",
    "sel = (validMap[\"2B\"]==1)\n",
    "dq[sel] = 0\n",
    "dq = dq + BadPixelMap[\"800K\"][\"1B\"]\n",
    "dq = dq + BadPixelMap[\"800K\"][\"2B\"]\n",
    "\n",
    "hdu1 = pyfits.ImageHDU(data=resp, header=None, name=\"SCI\")\n",
    "hdu1.header[\"BUNIT\"]= \"DN sec^-1 mJy^-1 pixel\"\n",
    "hdu2 = pyfits.ImageHDU(data=err, header=None, name=\"ERR\")\n",
    "hdu2.header[\"BUNIT\"]= \"DN sec^-1 mJy^-1 pixel\"\n",
    "hdu3 = pyfits.ImageHDU(data=dq, header=None, name=\"DQ\")\n",
    "hdu4 = pyfits.ImageHDU(data=size, header=None, name=\"PIXSIZ\")\n",
    "hdu4.header[\"BUNIT\"]= \"arcsec^2\"\n",
    "hdulist = pyfits.HDUList([hdu0,hdu1, hdu2, hdu3, dq_def, hdu4])\n",
    "hdulist.writeto(outDir + \"MIRI_FM_MIRIFUSHORT_12MEDIUM_PHOTOM_7B.03.00.fits\" )"
   ]
  },
  {
   "cell_type": "code",
   "execution_count": 25,
   "metadata": {},
   "outputs": [],
   "source": [
    "plt.imshow(resp, interpolation=\"nearest\")\n",
    "clb = plt.colorbar()\n",
    "clb.set_label('Response[DN sec^-1 mJy^-1 pixel]')\n",
    "plt.title(\"Response SHORT/MEDIUM (1B/2B)\")"
   ]
  },
  {
   "cell_type": "code",
   "execution_count": 26,
   "metadata": {},
   "outputs": [],
   "source": [
    "plt.plot(resp[:,210])\n",
    "plt.plot(resp[:,800])\n",
    "plt.plot(R_pixMap[\"800K\"][\"2B\"][:,800])\n",
    "plt.plot(R_pixMap[\"800K\"][\"1B\"][:,210])\n"
   ]
  },
  {
   "cell_type": "markdown",
   "metadata": {},
   "source": [
    "# SHORT LONG = 1C / 2C"
   ]
  },
  {
   "cell_type": "code",
   "execution_count": 27,
   "metadata": {},
   "outputs": [],
   "source": [
    "hdu0 = makeHeader(detector=\"MIRIFUSHORT\", channel=\"12\", band=\"LONG\")\n",
    "resp = R_pixMap[\"800K\"][\"2C\"].copy()\n",
    "err = dR_pixMap[\"800K\"][\"2C\"].copy() \n",
    "size = sizeMap[\"2C\"].copy()\n",
    "\n",
    "sel = (validMap[\"1C\"]==1)\n",
    "resp[sel] = R_pixMap[\"800K\"][\"1C\"][sel]\n",
    "err[sel] = dR_pixMap[\"800K\"][\"1C\"][sel]\n",
    "size[sel] = sizeMap[\"1C\"][sel]\n",
    "\n",
    "sel = (( validMap[\"1C\"] + validMap[\"2C\"] )==1)\n",
    "resp[sel] = resp[sel]/ff[\"SHORTLONG\"][sel]\n",
    "\n",
    "dq = np.full( validMap[\"1C\"].shape, 2 )\n",
    "sel = (validMap[\"1C\"]==1)\n",
    "dq[sel] = 0\n",
    "sel = (validMap[\"2C\"]==1)\n",
    "dq[sel] = 0\n",
    "dq = dq + BadPixelMap[\"800K\"][\"1C\"]\n",
    "dq = dq + BadPixelMap[\"800K\"][\"2C\"]\n",
    "\n",
    "hdu1 = pyfits.ImageHDU(data=resp, header=None, name=\"SCI\")\n",
    "hdu1.header[\"BUNIT\"]= \"DN sec^-1 mJy^-1 pixel\"\n",
    "hdu2 = pyfits.ImageHDU(data=err, header=None, name=\"ERR\")\n",
    "hdu2.header[\"BUNIT\"]= \"DN sec^-1 mJy^-1 pixel\"\n",
    "hdu3 = pyfits.ImageHDU(data=dq, header=None, name=\"DQ\")\n",
    "hdu4 = pyfits.ImageHDU(data=size, header=None, name=\"PIXSIZ\")\n",
    "hdu4.header[\"BUNIT\"]= \"arcsec^2\"\n",
    "hdulist = pyfits.HDUList([hdu0,hdu1, hdu2, hdu3, dq_def, hdu4])\n",
    "hdulist.writeto(outDir + \"MIRI_FM_MIRIFUSHORT_12LONG_PHOTOM_7B.03.00.fits\" )"
   ]
  },
  {
   "cell_type": "code",
   "execution_count": 28,
   "metadata": {},
   "outputs": [],
   "source": [
    "plt.imshow(resp, interpolation=\"nearest\")\n",
    "clb = plt.colorbar()\n",
    "clb.set_label('Response[DN sec^-1 mJy^-1 pixel]')\n",
    "plt.title(\"Response SHORT/LONG (1C/2C)\")"
   ]
  },
  {
   "cell_type": "code",
   "execution_count": 29,
   "metadata": {},
   "outputs": [],
   "source": [
    "plt.plot(resp[:,210])\n",
    "plt.plot(resp[:,800])\n",
    "plt.plot(R_pixMap[\"800K\"][\"2C\"][:,800])\n",
    "plt.plot(R_pixMap[\"800K\"][\"1C\"][:,210])\n"
   ]
  },
  {
   "cell_type": "markdown",
   "metadata": {},
   "source": [
    "# LONG SHORT = 3A / 4A"
   ]
  },
  {
   "cell_type": "code",
   "execution_count": 30,
   "metadata": {},
   "outputs": [],
   "source": [
    "hdu0 = makeHeader(detector=\"MIRIFULONG\", channel=\"34\", band=\"SHORT\")\n",
    "resp = R_pixMap[\"800K\"][\"4A\"].copy()\n",
    "err = dR_pixMap[\"800K\"][\"4A\"].copy() \n",
    "size = sizeMap[\"4A\"].copy()\n",
    "\n",
    "sel = (validMap[\"3A\"]==1)\n",
    "resp[sel] = R_pixMap[\"800K\"][\"3A\"][sel]\n",
    "err[sel] = dR_pixMap[\"800K\"][\"3A\"][sel]\n",
    "size[sel] = sizeMap[\"3A\"][sel]\n",
    "\n",
    "sel = (( validMap[\"3A\"] + validMap[\"4A\"] )==1)\n",
    "resp[sel] = resp[sel]/ff[\"LONGSHORT\"][sel]\n",
    "\n",
    "dq = np.full( validMap[\"3A\"].shape, 2 )\n",
    "sel = (validMap[\"3A\"]==1)\n",
    "dq[sel] = 0\n",
    "sel = (validMap[\"4A\"]==1)\n",
    "dq[sel] = 0\n",
    "dq = dq + BadPixelMap[\"800K\"][\"3A\"]\n",
    "dq = dq + BadPixelMap[\"800K\"][\"4A\"]\n",
    "\n",
    "hdu1 = pyfits.ImageHDU(data=resp, header=None, name=\"SCI\")\n",
    "hdu1.header[\"BUNIT\"]= \"DN sec^-1 mJy^-1 pixel\"\n",
    "hdu2 = pyfits.ImageHDU(data=err, header=None, name=\"ERR\")\n",
    "hdu2.header[\"BUNIT\"]= \"DN sec^-1 mJy^-1 pixel\"\n",
    "hdu3 = pyfits.ImageHDU(data=dq, header=None, name=\"DQ\")\n",
    "hdu4 = pyfits.ImageHDU(data=size, header=None, name=\"PIXSIZ\")\n",
    "hdu4.header[\"BUNIT\"]= \"arcsec^2\"\n",
    "hdulist = pyfits.HDUList([hdu0,hdu1, hdu2, hdu3, dq_def, hdu4])\n",
    "hdulist.writeto(outDir + \"MIRI_FM_MIRIFULONG_34SHORT_PHOTOM_7B.03.00.fits\" )"
   ]
  },
  {
   "cell_type": "code",
   "execution_count": 31,
   "metadata": {},
   "outputs": [],
   "source": [
    "plt.imshow(resp, interpolation=\"nearest\", vmin=0,vmax=3)\n",
    "clb = plt.colorbar()\n",
    "clb.set_label('Response[DN sec^-1 mJy^-1 pixel]')\n",
    "plt.title(\"Response LONG/SHORT (3A/4A)\")"
   ]
  },
  {
   "cell_type": "code",
   "execution_count": 32,
   "metadata": {},
   "outputs": [],
   "source": [
    "plt.imshow(resp, interpolation=\"nearest\", vmin=0.2, vmax=0.8)\n",
    "clb = plt.colorbar()\n",
    "clb.set_label('Response[DN sec^-1 mJy^-1 pixel]')\n",
    "plt.title(\"Response LONG/SHORT (3A/4A)\")"
   ]
  },
  {
   "cell_type": "code",
   "execution_count": 33,
   "metadata": {},
   "outputs": [],
   "source": [
    "\n",
    "plt.plot(resp[:,800])\n",
    "plt.plot(R_pixMap[\"800K\"][\"3A\"][:,800])\n",
    "plt.plot(resp[:,215])\n",
    "plt.plot(R_pixMap[\"800K\"][\"4A\"][:,215])\n"
   ]
  },
  {
   "cell_type": "markdown",
   "metadata": {},
   "source": [
    "# LONG MEDIUM = 3B / 4B"
   ]
  },
  {
   "cell_type": "code",
   "execution_count": 34,
   "metadata": {},
   "outputs": [],
   "source": [
    "hdu0 = makeHeader(detector=\"MIRIFULONG\", channel=\"34\", band=\"MEDIUM\")\n",
    "resp = R_pixMap[\"800K\"][\"4B\"].copy()\n",
    "err = dR_pixMap[\"800K\"][\"4B\"].copy() \n",
    "size = sizeMap[\"4B\"].copy()\n",
    "\n",
    "sel = (validMap[\"3B\"]==1)\n",
    "resp[sel] = R_pixMap[\"800K\"][\"3B\"][sel]\n",
    "err[sel] = dR_pixMap[\"800K\"][\"3B\"][sel]\n",
    "size[sel] = sizeMap[\"3B\"][sel]\n",
    "\n",
    "sel = (( validMap[\"3B\"] + validMap[\"4B\"] )==1)\n",
    "resp[sel] = resp[sel]/ff[\"LONGMEDIUM\"][sel]\n",
    "\n",
    "dq = np.full( validMap[\"3B\"].shape, 2 )\n",
    "sel = (validMap[\"3B\"]==1)\n",
    "dq[sel] = 0\n",
    "sel = (validMap[\"4B\"]==1)\n",
    "dq[sel] = 0\n",
    "dq = dq + BadPixelMap[\"800K\"][\"3B\"]\n",
    "dq = dq + BadPixelMap[\"800K\"][\"4B\"]\n",
    "\n",
    "hdu1 = pyfits.ImageHDU(data=resp, header=None, name=\"SCI\")\n",
    "hdu1.header[\"BUNIT\"]= \"DN sec^-1 mJy^-1 pixel\"\n",
    "hdu2 = pyfits.ImageHDU(data=err, header=None, name=\"ERR\")\n",
    "hdu2.header[\"BUNIT\"]= \"DN sec^-1 mJy^-1 pixel\"\n",
    "hdu3 = pyfits.ImageHDU(data=dq, header=None, name=\"DQ\")\n",
    "hdu4 = pyfits.ImageHDU(data=size, header=None, name=\"PIXSIZ\")\n",
    "hdu4.header[\"BUNIT\"]= \"arcsec^2\"\n",
    "hdulist = pyfits.HDUList([hdu0,hdu1, hdu2, hdu3, dq_def, hdu4])\n",
    "hdulist.writeto(outDir + \"MIRI_FM_MIRIFULONG_34MEDIUM_PHOTOM_7B.03.00.fits\" )"
   ]
  },
  {
   "cell_type": "code",
   "execution_count": 35,
   "metadata": {},
   "outputs": [],
   "source": [
    "plt.imshow(resp, interpolation=\"nearest\")\n",
    "clb = plt.colorbar()\n",
    "clb.set_label('Response[DN sec^-1 mJy^-1 pixel]')\n",
    "plt.title(\"Response LONG/MEDIUM (3B/4B)\")"
   ]
  },
  {
   "cell_type": "code",
   "execution_count": 36,
   "metadata": {},
   "outputs": [],
   "source": [
    "plt.imshow(resp, interpolation=\"nearest\", vmin=0.2, vmax=0.8)\n",
    "clb = plt.colorbar()\n",
    "clb.set_label('Response[DN sec^-1 mJy^-1 pixel]')\n",
    "plt.title(\"Response LONG/MEDIUM (3B/4B)\")"
   ]
  },
  {
   "cell_type": "code",
   "execution_count": 37,
   "metadata": {},
   "outputs": [],
   "source": [
    "\n",
    "plt.plot(resp[:,800])\n",
    "plt.plot(R_pixMap[\"800K\"][\"3B\"][:,800])\n",
    "plt.plot(resp[:,215])\n",
    "plt.plot(R_pixMap[\"800K\"][\"4B\"][:,215])\n"
   ]
  },
  {
   "cell_type": "markdown",
   "metadata": {},
   "source": [
    "# LONG LONG = 3C / 4C"
   ]
  },
  {
   "cell_type": "code",
   "execution_count": 38,
   "metadata": {},
   "outputs": [],
   "source": [
    "hdu0 = makeHeader(detector=\"MIRIFULONG\", channel=\"34\", band=\"LONG\")\n",
    "resp = R_pixMap[\"800K\"][\"4C\"].copy()\n",
    "err = dR_pixMap[\"800K\"][\"4C\"].copy() \n",
    "size = sizeMap[\"4C\"].copy()\n",
    "\n",
    "sel = (validMap[\"3C\"]==1)\n",
    "resp[sel] = R_pixMap[\"800K\"][\"3C\"][sel]\n",
    "err[sel] = dR_pixMap[\"800K\"][\"3C\"][sel]\n",
    "size[sel] = sizeMap[\"3C\"][sel]\n",
    "\n",
    "sel = (( validMap[\"3C\"] + validMap[\"4C\"] )==1)\n",
    "resp[sel] = resp[sel]/ff[\"LONGLONG\"][sel]\n",
    "\n",
    "dq = np.full( validMap[\"3C\"].shape, 2 )\n",
    "sel = (validMap[\"3C\"]==1)\n",
    "dq[sel] = 0\n",
    "sel = (validMap[\"4C\"]==1)\n",
    "dq[sel] = 0\n",
    "dq = dq + BadPixelMap[\"800K\"][\"3C\"]\n",
    "dq = dq + BadPixelMap[\"800K\"][\"4C\"]\n",
    "\n",
    "hdu1 = pyfits.ImageHDU(data=resp, header=None, name=\"SCI\")\n",
    "hdu1.header[\"BUNIT\"]= \"DN sec^-1 mJy^-1 pixel\"\n",
    "hdu2 = pyfits.ImageHDU(data=err, header=None, name=\"ERR\")\n",
    "hdu2.header[\"BUNIT\"]= \"DN sec^-1 mJy^-1 pixel\"\n",
    "hdu3 = pyfits.ImageHDU(data=dq, header=None, name=\"DQ\")\n",
    "hdu4 = pyfits.ImageHDU(data=size, header=None, name=\"PIXSIZ\")\n",
    "hdu4.header[\"BUNIT\"]= \"arcsec^2\"\n",
    "hdulist = pyfits.HDUList([hdu0,hdu1, hdu2, hdu3, dq_def, hdu4])\n",
    "hdulist.writeto(outDir + \"MIRI_FM_MIRIFULONG_34LONG_PHOTOM_7B.03.00.fits\" )"
   ]
  },
  {
   "cell_type": "code",
   "execution_count": 39,
   "metadata": {},
   "outputs": [],
   "source": [
    "plt.imshow(resp, interpolation=\"nearest\")\n",
    "clb = plt.colorbar()\n",
    "clb.set_label('Response[DN sec^-1 mJy^-1 pixel]')\n",
    "plt.title(\"Response LONG/LONG (3C/4C)\")"
   ]
  },
  {
   "cell_type": "code",
   "execution_count": 40,
   "metadata": {},
   "outputs": [],
   "source": [
    "plt.imshow(resp, interpolation=\"nearest\", vmin=0.1, vmax=0.8)\n",
    "clb = plt.colorbar()\n",
    "clb.set_label('Response[DN sec^-1 mJy^-1 pixel]')\n",
    "plt.title(\"Response LONG/LONG (3C/4C)\")"
   ]
  },
  {
   "cell_type": "code",
   "execution_count": 41,
   "metadata": {},
   "outputs": [],
   "source": [
    "plt.imshow(dq)"
   ]
  },
  {
   "cell_type": "code",
   "execution_count": 42,
   "metadata": {},
   "outputs": [],
   "source": [
    "plt.imshow(resp)\n"
   ]
  },
  {
   "cell_type": "code",
   "execution_count": 43,
   "metadata": {},
   "outputs": [],
   "source": [
    "\n",
    "plt.imshow(err)"
   ]
  },
  {
   "cell_type": "code",
   "execution_count": 44,
   "metadata": {},
   "outputs": [],
   "source": [
    "\n",
    "plt.imshow(size)"
   ]
  },
  {
   "cell_type": "code",
   "execution_count": null,
   "metadata": {
    "collapsed": true
   },
   "outputs": [],
   "source": []
  }
 ],
 "metadata": {
  "git": {
   "suppress_outputs": true
  },
  "kernelspec": {
   "display_name": "Python 2",
   "language": "python",
   "name": "python2"
  },
  "language_info": {
   "codemirror_mode": {
    "name": "ipython",
    "version": 2
   },
   "file_extension": ".py",
   "mimetype": "text/x-python",
   "name": "python",
   "nbconvert_exporter": "python",
   "pygments_lexer": "ipython2",
   "version": "2.7.13"
  }
 },
 "nbformat": 4,
 "nbformat_minor": 1
}
