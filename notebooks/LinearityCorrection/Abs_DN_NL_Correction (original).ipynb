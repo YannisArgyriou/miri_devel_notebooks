{
 "cells": [
  {
   "cell_type": "code",
   "execution_count": 1,
   "metadata": {},
   "outputs": [],
   "source": [
    "import numpy as np\n",
    "import numpy.polynomial.polynomial as poly\n",
    "import matplotlib.pyplot as plt\n",
    "import scipy.optimize as opt\n",
    "from astropy.io import fits"
   ]
  },
  {
   "cell_type": "code",
   "execution_count": 2,
   "metadata": {},
   "outputs": [],
   "source": [
    "def fittestdata_DN(tramp, order2):\n",
    "    coefs = [0.0] * (order2 +1)\n",
    "    expected_rate = 0\n",
    "    inramp = 1.0*tramp[tramp < 58000]\n",
    "    num_samples = inramp.size\n",
    "    first_fit_order = 3\n",
    "    if num_samples > order2 + 3:\n",
    "        time = np.array(list(range(num_samples)), dtype=np.float64)\n",
    "        solution = np.polynomial.polynomial.polyfit(time, inramp, first_fit_order)\n",
    "        expected_rate = solution[1]\n",
    "        expected_DN = expected_rate * time + inramp[0]\n",
    "    # now get the ratio between the expected DN and the actual DN. \n",
    "    # This is the correction factor.\n",
    "        correction_factor = expected_DN/inramp\n",
    "    #solve for the correction factor as a function of observed DN\n",
    "        if np.sum(np.isfinite(correction_factor)) == correction_factor.size:\n",
    "              coefs = np.polynomial.polynomial.polyfit(inramp, correction_factor, order2)\n",
    "    return coefs, expected_rate"
   ]
  },
  {
   "cell_type": "code",
   "execution_count": 3,
   "metadata": {},
   "outputs": [],
   "source": [
    "def correct_ramp_DN(inramp, coefs):\n",
    "    num_samples = inramp.size\n",
    "    cor_factor = poly.polyval(inramp, coefs)\n",
    "    new_rate = np.zeros(num_samples-1, dtype=np.float64)\n",
    "    corrected_ramp = cor_factor * inramp\n",
    "    for i in range(1,num_samples):\n",
    "        new_rate[i-1] = corrected_ramp[i] - corrected_ramp[i-1]\n",
    "    return new_rate, corrected_ramp"
   ]
  },
  {
   "cell_type": "code",
   "execution_count": 4,
   "metadata": {},
   "outputs": [],
   "source": [
    "def fitcalimage(calimage, model, order):\n",
    "    image_shape = calimage.shape\n",
    "    num_frames = image_shape[0]\n",
    "    out_parameters = np.zeros(shape =(order + 1, image_shape[1], image_shape[2] ), dtype=np.float64)\n",
    "    countrateat0DN = np.zeros(shape =(image_shape[1], image_shape[2] ), dtype=np.float64)\n",
    "    for i in range(image_shape[1]):\n",
    "        for j in range(image_shape[2]):\n",
    "            out_parameters[:, i, j], countrateat0DN[i, j] = model(calimage[3:-1, i, j], order)\n",
    "   #         print(out_parameters[:, i, j],countrateat0DN[i, j])\n",
    "        if  i//50 * 50 == i:\n",
    "            print('finished row ',i, out_parameters[:, i, 10],countrateat0DN[i, 170])\n",
    "    return out_parameters, countrateat0DN"
   ]
  },
  {
   "cell_type": "code",
   "execution_count": 5,
   "metadata": {},
   "outputs": [],
   "source": [
    "def applynlimage(inramp, correctfunc, solution_image):\n",
    "    image_shape = inramp.shape\n",
    "    num_frames = image_shape[0]\n",
    "    out_ramp = np.zeros_like(inramp, dtype=np.float64)\n",
    "    new_rate = np.zeros(shape=(num_frames-1, image_shape[1], image_shape[2]), dtype=np.float64)\n",
    "    for i in range(image_shape[1]):\n",
    "        for j in range(image_shape[2]):\n",
    "            new_rate[:, i, j], out_ramp[:, i, j] = correctfunc(1.0*inramp[:, i, j], solution_image[:, i, j])\n",
    "        if  i//50 * 50 == i:\n",
    "            print('finished row ',i)\n",
    "    return out_ramp, new_rate"
   ]
  },
  {
   "cell_type": "code",
   "execution_count": 7,
   "metadata": {},
   "outputs": [],
   "source": [
    "def find_med_normalized_rate(normalized_rate, inramp, countrateat0DN):\n",
    "    saturation_level = 58000\n",
    "    norm_shape = normalized_rate.shape\n",
    "    med_normalized_rate = np.zeros(norm_shape[0], dtype=np.float64)\n",
    "    out_cube = np.zeros_like(normalized_rate)\n",
    "    for i in range(norm_shape[0]):\n",
    "        normalized_plane = normalized_rate[i,:,:]\n",
    "        normalized_plane[inramp[i,:,:] > 58000] = np.nan\n",
    "        normalized_plane[countrateat0DN < 600] = np.nan\n",
    "        if np.sum(np.isfinite(normalized_plane)) > 10000:\n",
    "            med_normalized_rate[i] = np.median(\n",
    "                normalized_plane[np.isfinite(normalized_plane)])            \n",
    "    return med_normalized_rate[med_normalized_rate > 0]"
   ]
  },
  {
   "cell_type": "code",
   "execution_count": 8,
   "metadata": {},
   "outputs": [],
   "source": [
    "calimage=fits.getdata('M105_00_000.fits') #CV3 F770W flat from Jane"
   ]
  },
  {
   "cell_type": "code",
   "execution_count": 9,
   "metadata": {},
   "outputs": [
    {
     "name": "stdout",
     "output_type": "stream",
     "text": [
      "finished row  0 [ 1.04957448e+00 -7.29936824e-06  3.45241375e-10 -5.68570324e-15\n",
      "  4.03744664e-20] 769.1006730409728\n"
     ]
    },
    {
     "name": "stderr",
     "output_type": "stream",
     "text": [
      "/Users/mregan/anaconda3/envs/astroconda/lib/python3.5/site-packages/ipykernel_launcher.py:14: RuntimeWarning: invalid value encountered in true_divide\n",
      "  \n",
      "/Users/mregan/anaconda3/envs/astroconda/lib/python3.5/site-packages/ipykernel_launcher.py:14: RuntimeWarning: divide by zero encountered in true_divide\n",
      "  \n"
     ]
    },
    {
     "name": "stdout",
     "output_type": "stream",
     "text": [
      "finished row  50 [ 1.04754950e+00 -7.13871912e-06  3.43303216e-10 -5.92126371e-15\n",
      "  4.12309429e-20] 552.5138040210334\n",
      "finished row  100 [ 1.02510655e+00 -3.95149782e-06  1.87185499e-10 -2.67841710e-15\n",
      "  1.81314370e-20] 580.6651706816072\n",
      "finished row  150 [ 1.03818699e+00 -5.65638985e-06  2.63706521e-10 -4.17305071e-15\n",
      "  2.78526994e-20] 619.6191071816091\n",
      "finished row  200 [ 9.99191525e-01 -6.04729286e-07  3.84854633e-11  1.17655627e-16\n",
      " -9.26295306e-22] 677.1547071019359\n",
      "finished row  250 [ 1.03549545e+00 -5.28925011e-06  2.42821129e-10 -4.03655388e-15\n",
      "  3.00198600e-20] 729.4571583636091\n",
      "finished row  300 [ 1.06168757e+00 -8.56749177e-06  3.83612317e-10 -6.28518345e-15\n",
      "  4.19790224e-20] 799.3815628580438\n",
      "finished row  350 [ 1.02697118e+00 -4.25609080e-06  1.96082899e-10 -2.74998666e-15\n",
      "  1.82464946e-20] 847.8342136730429\n",
      "finished row  400 [ 1.06881899e+00 -9.49213039e-06  4.23663113e-10 -7.26328835e-15\n",
      "  4.98362821e-20] 879.9336432828325\n",
      "finished row  450 [ 1.09557803e+00 -1.28238372e-05  5.66660806e-10 -9.76963524e-15\n",
      "  6.56867214e-20] 899.7987412800952\n",
      "finished row  500 [ 1.00402606e+00 -1.17895010e-06  5.88257411e-11 -5.20853567e-16\n",
      "  5.86166016e-21] 911.627194121212\n",
      "finished row  550 [ 1.05176212e+00 -7.37887640e-06  3.32878809e-10 -5.28519492e-15\n",
      "  3.41109015e-20] 899.4481092549858\n",
      "finished row  600 [ 1.01866966e+00 -2.77774451e-06  1.25365479e-10 -1.69931213e-15\n",
      "  1.29822119e-20] 913.9889398881609\n",
      "finished row  650 [ 1.00169976e+00 -8.63852541e-07  4.27403867e-11  1.42803887e-16\n",
      " -1.92917788e-21] 873.7106788738851\n",
      "finished row  700 [ 1.04779343e+00 -6.79824182e-06  3.04958099e-10 -5.06133304e-15\n",
      "  3.54140921e-20] 884.4065867704026\n",
      "finished row  750 [ 1.04757378e+00 -7.06159729e-06  3.22796324e-10 -5.03016763e-15\n",
      "  3.20554666e-20] 870.582685539645\n",
      "finished row  800 [ 1.06197726e+00 -8.93355646e-06  4.06808349e-10 -6.66566751e-15\n",
      "  4.34206826e-20] 854.5881468803432\n",
      "finished row  850 [ 1.04260066e+00 -6.18578185e-06  2.80020583e-10 -4.59484984e-15\n",
      "  3.18597787e-20] 837.60624651167\n",
      "finished row  900 [ 1.03697567e+00 -5.23026012e-06  2.34341945e-10 -3.86434922e-15\n",
      "  2.82854478e-20] 834.1446644567798\n",
      "finished row  950 [ 1.06352040e+00 -8.60312847e-06  3.83251935e-10 -6.47456456e-15\n",
      "  4.38631456e-20] 807.272731452089\n",
      "finished row  1000 [ 9.85517519e-01  1.10442142e-06 -3.99658624e-11  1.34072559e-15\n",
      " -7.08838110e-21] 849.8718058490665\n",
      "finished row  1050 [ 4.92900607e+08 -9.29177210e+04  6.56853348e+00 -2.06374090e-04\n",
      "  2.43149062e-09] -5.313402442467581\n",
      "finished row  1100 [-9.12996339e+07  1.72245076e+04 -1.21858347e+00  3.83160435e-05\n",
      " -4.51790115e-10] -0.2699507720549168\n",
      "finished row  1150 [-1.82428586e+07  3.44261730e+03 -2.43621493e-01  7.66230950e-06\n",
      " -9.03721879e-11] 2.0033285724204504\n",
      "finished row  1200 [ 3.38709584e+07 -6.38140574e+03  4.50851277e-01 -1.41567813e-05\n",
      "  1.66695470e-10] -2.863062393023937\n",
      "finished row  1250 [ 1.99768179e+07 -3.72379517e+03  2.60255098e-01 -8.08259545e-06\n",
      "  9.41135659e-11] -9.104267040437104\n",
      "finished row  0\n",
      "finished row  50\n",
      "finished row  100\n",
      "finished row  150\n",
      "finished row  200\n",
      "finished row  250\n",
      "finished row  300\n",
      "finished row  350\n",
      "finished row  400\n",
      "finished row  450\n",
      "finished row  500\n",
      "finished row  550\n",
      "finished row  600\n",
      "finished row  650\n",
      "finished row  700\n",
      "finished row  750\n",
      "finished row  800\n",
      "finished row  850\n",
      "finished row  900\n",
      "finished row  950\n",
      "finished row  1000\n",
      "finished row  1050\n",
      "finished row  1100\n",
      "finished row  1150\n",
      "finished row  1200\n",
      "finished row  1250\n"
     ]
    }
   ],
   "source": [
    "outsolutionDN, countrateat0DN_DN = fitcalimage(calimage, fittestdata_DN, 4)\n",
    "new_ramp_DN, new_rate_DN = applynlimage(calimage, correct_ramp_DN ,outsolutionDN)\n"
   ]
  },
  {
   "cell_type": "code",
   "execution_count": 10,
   "metadata": {},
   "outputs": [
    {
     "name": "stderr",
     "output_type": "stream",
     "text": [
      "/Users/mregan/anaconda3/envs/astroconda/lib/python3.5/site-packages/ipykernel_launcher.py:3: RuntimeWarning: divide by zero encountered in true_divide\n",
      "  This is separate from the ipykernel package so we can avoid doing imports until\n",
      "/Users/mregan/anaconda3/envs/astroconda/lib/python3.5/site-packages/ipykernel_launcher.py:3: RuntimeWarning: invalid value encountered in true_divide\n",
      "  This is separate from the ipykernel package so we can avoid doing imports until\n"
     ]
    }
   ],
   "source": [
    "hdu = fits.PrimaryHDU(new_rate_DN)\n",
    "hdu.writeto('newrateDN.fits', overwrite=True)\n",
    "normalized_rateDN = new_rate_DN/countrateat0DN_DN\n",
    "hdu = fits.PrimaryHDU(normalized_rateDN)\n",
    "hdu.writeto('normalizedrateDN.fits',overwrite=True)\n"
   ]
  },
  {
   "cell_type": "code",
   "execution_count": 11,
   "metadata": {},
   "outputs": [],
   "source": [
    "med_norm_rate_DN = find_med_normalized_rate(normalized_rateDN[:-1,:,:], calimage,countrateat0DN_DN)"
   ]
  },
  {
   "cell_type": "code",
   "execution_count": 12,
   "metadata": {},
   "outputs": [
    {
     "data": {
      "text/plain": [
       "0.0013456728600408855"
      ]
     },
     "execution_count": 12,
     "metadata": {},
     "output_type": "execute_result"
    },
    {
     "data": {
      "image/png": "[encoded data removed]",
      "text/plain": [
       "<Figure size 432x288 with 1 Axes>"
      ]
     },
     "metadata": {},
     "output_type": "display_data"
    }
   ],
   "source": [
    "plt.plot(med_norm_rate_DN[4:])\n",
    "np.std(med_norm_rate_DN[4:])"
   ]
  },
  {
   "cell_type": "markdown",
   "metadata": {},
   "source": [
    "<h2>Now try to correct the 2nd integration using the cal parameters from the 1st integration</h2>"
   ]
  },
  {
   "cell_type": "code",
   "execution_count": 13,
   "metadata": {},
   "outputs": [],
   "source": [
    "correct_image1=fits.getdata('M105_00_000.fits')"
   ]
  },
  {
   "cell_type": "code",
   "execution_count": 15,
   "metadata": {},
   "outputs": [
    {
     "name": "stdout",
     "output_type": "stream",
     "text": [
      "finished row  0\n",
      "finished row  50\n",
      "finished row  100\n",
      "finished row  150\n",
      "finished row  200\n",
      "finished row  250\n",
      "finished row  300\n",
      "finished row  350\n",
      "finished row  400\n",
      "finished row  450\n",
      "finished row  500\n",
      "finished row  550\n",
      "finished row  600\n",
      "finished row  650\n",
      "finished row  700\n",
      "finished row  750\n",
      "finished row  800\n",
      "finished row  850\n",
      "finished row  900\n",
      "finished row  950\n",
      "finished row  1000\n",
      "finished row  1050\n",
      "finished row  1100\n",
      "finished row  1150\n",
      "finished row  1200\n",
      "finished row  1250\n"
     ]
    }
   ],
   "source": [
    "cor_ramp_DN, cor_rate_DN = applynlimage(correct_image1, correct_ramp_DN ,outsolutionDN)"
   ]
  },
  {
   "cell_type": "code",
   "execution_count": 16,
   "metadata": {},
   "outputs": [],
   "source": [
    "hdu = fits.PrimaryHDU(cor_ramp_DN)\n",
    "hdu.writeto('corrampDN.fits', overwrite=True)\n",
    "hdu = fits.PrimaryHDU(cor_rate_DN)\n",
    "hdu.writeto('corrateDN.fits', overwrite=True)"
   ]
  },
  {
   "cell_type": "code",
   "execution_count": 17,
   "metadata": {},
   "outputs": [
    {
     "name": "stderr",
     "output_type": "stream",
     "text": [
      "/Users/mregan/anaconda3/envs/astroconda/lib/python3.5/site-packages/ipykernel_launcher.py:1: RuntimeWarning: divide by zero encountered in true_divide\n",
      "  \"\"\"Entry point for launching an IPython kernel.\n",
      "/Users/mregan/anaconda3/envs/astroconda/lib/python3.5/site-packages/ipykernel_launcher.py:1: RuntimeWarning: invalid value encountered in true_divide\n",
      "  \"\"\"Entry point for launching an IPython kernel.\n"
     ]
    },
    {
     "data": {
      "text/plain": [
       "0.0013456728600408855"
      ]
     },
     "execution_count": 17,
     "metadata": {},
     "output_type": "execute_result"
    },
    {
     "data": {
      "image/png": "[encoded data removed]",
      "text/plain": [
       "<Figure size 432x288 with 1 Axes>"
      ]
     },
     "metadata": {},
     "output_type": "display_data"
    }
   ],
   "source": [
    "normalized_rate_corDN = cor_rate_DN/countrateat0DN_DN\n",
    "hdu = fits.PrimaryHDU(normalized_rate_corDN)\n",
    "hdu.writeto('normalizedratecorDN.fits',overwrite=True)\n",
    "med_norm_rate_corDN = find_med_normalized_rate(normalized_rate_corDN[:-1,:,:], calimage,countrateat0DN_DN)\n",
    "plt.plot(med_norm_rate_corDN[4:])\n",
    "plt.title(\"corrected normalized rate of 2nd integration using 1st int as cal skipping first 5 frames, DN method\")\n",
    "np.std(med_norm_rate_corDN[4:])"
   ]
  },
  {
   "cell_type": "code",
   "execution_count": null,
   "metadata": {},
   "outputs": [],
   "source": []
  }
 ],
 "metadata": {
  "kernelspec": {
   "display_name": "Python 2",
   "language": "python",
   "name": "python2"
  },
  "language_info": {
   "codemirror_mode": {
    "name": "ipython",
    "version": 2
   },
   "file_extension": ".py",
   "mimetype": "text/x-python",
   "name": "python",
   "nbconvert_exporter": "python",
   "pygments_lexer": "ipython2",
   "version": "2.7.15"
  }
 },
 "nbformat": 4,
 "nbformat_minor": 2
}
