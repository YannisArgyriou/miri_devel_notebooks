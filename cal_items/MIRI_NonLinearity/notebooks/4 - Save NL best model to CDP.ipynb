{
 "cells": [
  {
   "cell_type": "markdown",
   "metadata": {},
   "source": [
    "# Save MRS non-linearity best model to CDP"
   ]
  },
  {
   "cell_type": "code",
   "execution_count": 1,
   "metadata": {},
   "outputs": [
    {
     "data": {
      "text/html": [
       "<script>\n",
       "code_show=true; \n",
       "function code_toggle() {\n",
       " if (code_show){\n",
       " $('div.input').hide();\n",
       " } else {\n",
       " $('div.input').show();\n",
       " }\n",
       " code_show = !code_show\n",
       "} \n",
       "$( document ).ready(code_toggle);\n",
       "</script>\n",
       "The raw code for this IPython notebook is by default hidden for easier reading.\n",
       "To toggle on/off the raw code, click <a href=\"javascript:code_toggle()\">here</a>."
      ],
      "text/plain": [
       "<IPython.core.display.HTML object>"
      ]
     },
     "execution_count": 1,
     "metadata": {},
     "output_type": "execute_result"
    }
   ],
   "source": [
    "from IPython.display import HTML\n",
    "\n",
    "HTML('''<script>\n",
    "code_show=true; \n",
    "function code_toggle() {\n",
    " if (code_show){\n",
    " $('div.input').hide();\n",
    " } else {\n",
    " $('div.input').show();\n",
    " }\n",
    " code_show = !code_show\n",
    "} \n",
    "$( document ).ready(code_toggle);\n",
    "</script>\n",
    "The raw code for this IPython notebook is by default hidden for easier reading.\n",
    "To toggle on/off the raw code, click <a href=\"javascript:code_toggle()\">here</a>.''')"
   ]
  },
  {
   "cell_type": "code",
   "execution_count": 1,
   "metadata": {},
   "outputs": [],
   "source": [
    "# import modules\n",
    "from funcs import load_obj\n",
    "from astropy.io import fits"
   ]
  },
  {
   "cell_type": "code",
   "execution_count": 2,
   "metadata": {},
   "outputs": [],
   "source": [
    "# Define paths to data\n",
    "workDir       = '/Users/ioannisa/Desktop/python/miri_devel/'\n",
    "cdpDir        = workDir+'cdp_data/'\n",
    "d2cMapDir     = workDir+'notebooks/distortionMaps/'\n",
    "\n",
    "# MRS bands\n",
    "bands = [\"1A\", \"1B\", \"1C\", \"2A\", \"2B\", \"2C\", \"3A\", \"3B\", \"3C\", \"4A\", \"4B\", \"4C\"]\n",
    "\n",
    "# Load NL best model output parameters\n",
    "infile = 'NonLinearityCorrection_OutputParameters_BestModel_dic_CV3_MRS_RAD_14'\n",
    "best_parameters = load_obj(infile,path='obj/')\n",
    "\n",
    "infile_err = 'NonLinearityCorrection_OutputParameters_BestModelError_dic_CV3_MRS_RAD_14'\n",
    "best_parameters_err = load_obj(infile_err,path='obj/')"
   ]
  },
  {
   "cell_type": "markdown",
   "metadata": {},
   "source": [
    "# Save CDPs"
   ]
  },
  {
   "cell_type": "code",
   "execution_count": 3,
   "metadata": {},
   "outputs": [],
   "source": [
    "# save responses to CDP\n",
    "oldCdp = fits.open(cdpDir+\"MIRI_FM_RAL_MIRIFUSHORT_12_LINEARITY_07.02.00.fits\")\n",
    "dq_def = oldCdp[4]"
   ]
  },
  {
   "cell_type": "code",
   "execution_count": 4,
   "metadata": {},
   "outputs": [],
   "source": [
    "outDir = cdpDir+\"CDP8/\""
   ]
  },
  {
   "cell_type": "code",
   "execution_count": 5,
   "metadata": {},
   "outputs": [],
   "source": [
    "def makeHeader(detector=\"MIRIFUSHORT\", channel=\"12\", band=\"SHORT\"):\n",
    "    hdu0 = fits.PrimaryHDU()\n",
    "    hdu0.header[\"REFTYPE\"] = \"LINEARITY\"\n",
    "    hdu0.header[\"DESCRIP\"] = \"MIRI LINEARITY Correction for CDP8\"\n",
    "    hdu0.header[\"PEDIGREE\"]= \"GROUND\"\n",
    "    hdu0.header[\"TELESCOP\"]= \"JWST\"\n",
    "    hdu0.header[\"INSTRUME\"]= \"MIRI\"\n",
    "    hdu0.header[\"DETECTOR\"]= detector\n",
    "    hdu0.header[\"MODELNAM\"]= (\"FM\", \"Instrument model name\")\n",
    "    hdu0.header[\"READPATT\"]= \"ANY\"\n",
    "    hdu0.header[\"DETSETNG\"]= \"N/A\"\n",
    "    hdu0.header[\"BAND\"]    = band\n",
    "    hdu0.header[\"CHANNEL\"] = channel\n",
    "    hdu0.header[\"EXP_TYPE\"]= \"MIR_MRS\"\n",
    "    hdu0.header[\"USEAFTER\"]= \"2010-01-01T00:00:00\"\n",
    "    hdu0.header[\"FASTAXIS\"]= 1                                               \n",
    "    hdu0.header[\"SLOWAXIS\"]= 2\n",
    "    hdu0.header[\"SUBARRAY\"]=\"GENERIC\"\n",
    "    hdu0.header[\"SUBSTRT1\"]= 1                                            \n",
    "    hdu0.header[\"SUBSIZE1\"]= 1032                                              \n",
    "    hdu0.header[\"SUBSTRT2\"]= 1                                                \n",
    "    hdu0.header[\"SUBSIZE2\"]= 1024\n",
    "    hdu0.header[\"FILENAME\"]= \"MIRI_FM_\"+detector+\"_\"+channel+band+\"_LINEARITY_8B.02.00.fits\"\n",
    "    hdu0.header[\"DATE\"]    = \"2019-08-21\"\n",
    "    hdu0.header[\"VERSION\"] = \"8B.02.00\"\n",
    "    hdu0.header[\"AUTHOR\"]  =\"JANE MORRISON, IOANNIS ARGYRIOU\"\n",
    "    hdu0.header[\"ORIGIN\"]  = \"MIRI European Consortium\"\n",
    "    hdu0.header[\"NORMALV\"]  = 20000.0  \n",
    "    hdu0.header[\"PHOTMJSR\"] = 42.5\n",
    "    hdu0.header[\"PHOTUJA2\"] = 1000.0\n",
    "    hdu0.header.add_history(\"Derivation based on fit to ratio of data to linearized ramp\")    \n",
    "    hdu0.header.add_history(\"DOCUMENT: MIRI-TR-00006-UA-Linearity_06.01.pdf\")\n",
    "    hdu0.header.add_history(\"DATA USED: CV3 MRS_RAD_14 test\")\n",
    "    hdu0.header.add_history(\"SOFTWARE: Python notebook\")\n",
    "    hdu0.header.add_history(\"DIFFERENCES: 5 coefficients and MRS band dependence\")\n",
    "    hdu0.header.add_history(\"DIFFERENCES: Recomputed coeff based on method of Mike Reagan\")\n",
    "    hdu0.header.add_history(\"DIFFERENCES: Coeff of CH4 determined from CH3 values\")    \n",
    "    return hdu0"
   ]
  },
  {
   "cell_type": "markdown",
   "metadata": {},
   "source": [
    "## SHORT SHORT = 1A / 2A"
   ]
  },
  {
   "cell_type": "code",
   "execution_count": 6,
   "metadata": {},
   "outputs": [],
   "source": [
    "hdu0 = makeHeader(detector=\"MIRIFUSHORT\", channel=\"12\", band=\"SHORT\")\n",
    "\n",
    "coeff = best_parameters[\"1A\"]+best_parameters[\"2A\"]\n",
    "err = best_parameters_err[\"1A\"]+best_parameters_err[\"2A\"]\n",
    "\n",
    "dq = oldCdp[3].data\n",
    "\n",
    "hdu1 = fits.ImageHDU(data=coeff, header=None, name=\"COEFFS\")\n",
    "hdu2 = fits.ImageHDU(data=err, header=None, name=\"ERR\")\n",
    "hdu3 = fits.ImageHDU(data=dq, header=None, name=\"DQ\")\n",
    "hdulist = fits.HDUList([hdu0,hdu1, hdu2, hdu3, dq_def])\n",
    "hdulist.writeto(outDir + \"MIRI_FM_MIRIFUSHORT_12SHORT_LINEARITY_8B.02.00.fits\",overwrite=True)"
   ]
  },
  {
   "cell_type": "markdown",
   "metadata": {},
   "source": [
    "## SHORT MEDIUM = 1B / 2B"
   ]
  },
  {
   "cell_type": "code",
   "execution_count": 7,
   "metadata": {},
   "outputs": [],
   "source": [
    "hdu0 = makeHeader(detector=\"MIRIFUSHORT\", channel=\"12\", band=\"MEDIUM\")\n",
    "\n",
    "coeff = best_parameters[\"1B\"]+best_parameters[\"2B\"]\n",
    "err = best_parameters_err[\"1B\"]+best_parameters_err[\"2B\"]\n",
    "\n",
    "dq = oldCdp[3].data\n",
    "\n",
    "hdu1 = fits.ImageHDU(data=coeff, header=None, name=\"COEFFS\")\n",
    "hdu2 = fits.ImageHDU(data=err, header=None, name=\"ERR\")\n",
    "hdu3 = fits.ImageHDU(data=dq, header=None, name=\"DQ\")\n",
    "hdulist = fits.HDUList([hdu0,hdu1, hdu2, hdu3, dq_def])\n",
    "hdulist.writeto(outDir + \"MIRI_FM_MIRIFUSHORT_12MEDIUM_LINEARITY_8B.02.00.fits\",overwrite=True)"
   ]
  },
  {
   "cell_type": "markdown",
   "metadata": {},
   "source": [
    "## SHORT LONG = 1C / 2C"
   ]
  },
  {
   "cell_type": "code",
   "execution_count": 8,
   "metadata": {},
   "outputs": [],
   "source": [
    "hdu0 = makeHeader(detector=\"MIRIFUSHORT\", channel=\"12\", band=\"LONG\")\n",
    "\n",
    "coeff = best_parameters[\"1C\"]+best_parameters[\"2C\"]\n",
    "err = best_parameters_err[\"1C\"]+best_parameters_err[\"2C\"]\n",
    "\n",
    "dq = oldCdp[3].data\n",
    "\n",
    "hdu1 = fits.ImageHDU(data=coeff, header=None, name=\"COEFFS\")\n",
    "hdu2 = fits.ImageHDU(data=err, header=None, name=\"ERR\")\n",
    "hdu3 = fits.ImageHDU(data=dq, header=None, name=\"DQ\")\n",
    "hdulist = fits.HDUList([hdu0,hdu1, hdu2, hdu3, dq_def])\n",
    "hdulist.writeto(outDir + \"MIRI_FM_MIRIFUSHORT_12LONG_LINEARITY_8B.02.00.fits\",overwrite=True)"
   ]
  },
  {
   "cell_type": "markdown",
   "metadata": {},
   "source": [
    "## LONG SHORT = 3A / 4A"
   ]
  },
  {
   "cell_type": "code",
   "execution_count": 9,
   "metadata": {},
   "outputs": [],
   "source": [
    "hdu0 = makeHeader(detector=\"MIRIFULONG\", channel=\"34\", band=\"SHORT\")\n",
    "\n",
    "coeff = best_parameters[\"3A\"]+best_parameters[\"4A\"]\n",
    "err = best_parameters_err[\"3A\"]+best_parameters_err[\"4A\"]\n",
    "\n",
    "dq = oldCdp[3].data\n",
    "\n",
    "hdu1 = fits.ImageHDU(data=coeff, header=None, name=\"COEFFS\")\n",
    "hdu2 = fits.ImageHDU(data=err, header=None, name=\"ERR\")\n",
    "hdu3 = fits.ImageHDU(data=dq, header=None, name=\"DQ\")\n",
    "hdulist = fits.HDUList([hdu0,hdu1, hdu2, hdu3, dq_def])\n",
    "hdulist.writeto(outDir + \"MIRI_FM_MIRIFULONG_34SHORT_LINEARITY_8B.02.00.fits\",overwrite=True)"
   ]
  },
  {
   "cell_type": "markdown",
   "metadata": {},
   "source": [
    "## LONG MEDIUM = 3B / 4B"
   ]
  },
  {
   "cell_type": "code",
   "execution_count": 10,
   "metadata": {},
   "outputs": [],
   "source": [
    "hdu0 = makeHeader(detector=\"MIRIFULONG\", channel=\"34\", band=\"MEDIUM\")\n",
    "\n",
    "coeff = best_parameters[\"3B\"]+best_parameters[\"4B\"]\n",
    "err = best_parameters_err[\"3B\"]+best_parameters_err[\"4B\"]\n",
    "\n",
    "dq = oldCdp[3].data\n",
    "\n",
    "hdu1 = fits.ImageHDU(data=coeff, header=None, name=\"COEFFS\")\n",
    "hdu2 = fits.ImageHDU(data=err, header=None, name=\"ERR\")\n",
    "hdu3 = fits.ImageHDU(data=dq, header=None, name=\"DQ\")\n",
    "hdulist = fits.HDUList([hdu0,hdu1, hdu2, hdu3, dq_def])\n",
    "hdulist.writeto(outDir + \"MIRI_FM_MIRIFULONG_34MEDIUM_LINEARITY_8B.02.00.fits\",overwrite=True)"
   ]
  },
  {
   "cell_type": "markdown",
   "metadata": {},
   "source": [
    "## LONG LONG = 3C / 4C"
   ]
  },
  {
   "cell_type": "code",
   "execution_count": 11,
   "metadata": {},
   "outputs": [],
   "source": [
    "hdu0 = makeHeader(detector=\"MIRIFULONG\", channel=\"34\", band=\"LONG\")\n",
    "\n",
    "coeff = best_parameters[\"3C\"]+best_parameters[\"4C\"]\n",
    "err = best_parameters_err[\"3C\"]+best_parameters_err[\"4C\"]\n",
    "\n",
    "dq = oldCdp[3].data\n",
    "\n",
    "hdu1 = fits.ImageHDU(data=coeff, header=None, name=\"COEFFS\")\n",
    "hdu2 = fits.ImageHDU(data=err, header=None, name=\"ERR\")\n",
    "hdu3 = fits.ImageHDU(data=dq, header=None, name=\"DQ\")\n",
    "hdulist = fits.HDUList([hdu0,hdu1, hdu2, hdu3, dq_def])\n",
    "hdulist.writeto(outDir + \"MIRI_FM_MIRIFULONG_34LONG_LINEARITY_8B.02.00.fits\",overwrite=True)"
   ]
  },
  {
   "cell_type": "code",
   "execution_count": null,
   "metadata": {},
   "outputs": [],
   "source": []
  }
 ],
 "metadata": {
  "git": {
   "suppress_outputs": true
  },
  "kernelspec": {
   "display_name": "Python 2",
   "language": "python",
   "name": "python2"
  },
  "language_info": {
   "codemirror_mode": {
    "name": "ipython",
    "version": 2
   },
   "file_extension": ".py",
   "mimetype": "text/x-python",
   "name": "python",
   "nbconvert_exporter": "python",
   "pygments_lexer": "ipython2",
   "version": "2.7.15"
  }
 },
 "nbformat": 4,
 "nbformat_minor": 1
}
